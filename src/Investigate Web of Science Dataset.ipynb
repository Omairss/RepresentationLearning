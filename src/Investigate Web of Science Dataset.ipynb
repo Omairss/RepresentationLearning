{
 "cells": [
  {
   "cell_type": "code",
   "execution_count": 110,
   "metadata": {},
   "outputs": [],
   "source": [
    "import pandas as pd\n",
    "import h5py\n",
    "import networkx\n",
    "import pickle as pkl\n",
    "import matplotlib.pyplot as plt\n"
   ]
  },
  {
   "cell_type": "markdown",
   "metadata": {},
   "source": [
    "## Read File and Sanity Check"
   ]
  },
  {
   "cell_type": "code",
   "execution_count": 82,
   "metadata": {},
   "outputs": [],
   "source": [
    "filename = '../data/wos/wos_00_07.h5'\n",
    "filename2 = '../data/wos/wos_00_07_author.h5'"
   ]
  },
  {
   "cell_type": "code",
   "execution_count": 104,
   "metadata": {},
   "outputs": [],
   "source": [
    "author_df = pd.read_hdf(filename2)\n",
    "author_df = author_df.dropna()"
   ]
  },
  {
   "cell_type": "code",
   "execution_count": 29,
   "metadata": {},
   "outputs": [
    {
     "data": {
      "text/html": [
       "<div>\n",
       "<style scoped>\n",
       "    .dataframe tbody tr th:only-of-type {\n",
       "        vertical-align: middle;\n",
       "    }\n",
       "\n",
       "    .dataframe tbody tr th {\n",
       "        vertical-align: top;\n",
       "    }\n",
       "\n",
       "    .dataframe thead th {\n",
       "        text-align: right;\n",
       "    }\n",
       "</style>\n",
       "<table border=\"1\" class=\"dataframe\">\n",
       "  <thead>\n",
       "    <tr style=\"text-align: right;\">\n",
       "      <th></th>\n",
       "      <th>uid</th>\n",
       "      <th>seq_no</th>\n",
       "      <th>author_id</th>\n",
       "    </tr>\n",
       "  </thead>\n",
       "  <tbody>\n",
       "    <tr>\n",
       "      <td>0</td>\n",
       "      <td>WOS:000086109900003</td>\n",
       "      <td>1</td>\n",
       "      <td>AuthorDAIS10992977</td>\n",
       "    </tr>\n",
       "    <tr>\n",
       "      <td>1</td>\n",
       "      <td>WOS:000086109900003</td>\n",
       "      <td>2</td>\n",
       "      <td>AuthorDAIS2217162</td>\n",
       "    </tr>\n",
       "    <tr>\n",
       "      <td>2</td>\n",
       "      <td>WOS:000167161300007</td>\n",
       "      <td>1</td>\n",
       "      <td>AuthorDAIS14097041</td>\n",
       "    </tr>\n",
       "    <tr>\n",
       "      <td>3</td>\n",
       "      <td>WOS:000167161300007</td>\n",
       "      <td>2</td>\n",
       "      <td>AuthorDAIS13159415</td>\n",
       "    </tr>\n",
       "    <tr>\n",
       "      <td>4</td>\n",
       "      <td>WOS:000167161300007</td>\n",
       "      <td>3</td>\n",
       "      <td>AuthorDAIS10385644</td>\n",
       "    </tr>\n",
       "  </tbody>\n",
       "</table>\n",
       "</div>"
      ],
      "text/plain": [
       "                   uid  seq_no           author_id\n",
       "0  WOS:000086109900003       1  AuthorDAIS10992977\n",
       "1  WOS:000086109900003       2   AuthorDAIS2217162\n",
       "2  WOS:000167161300007       1  AuthorDAIS14097041\n",
       "3  WOS:000167161300007       2  AuthorDAIS13159415\n",
       "4  WOS:000167161300007       3  AuthorDAIS10385644"
      ]
     },
     "execution_count": 29,
     "metadata": {},
     "output_type": "execute_result"
    }
   ],
   "source": [
    "author_df.head()"
   ]
  },
  {
   "cell_type": "code",
   "execution_count": 30,
   "metadata": {},
   "outputs": [],
   "source": [
    "paper_df = pd.read_hdf(filename)"
   ]
  },
  {
   "cell_type": "code",
   "execution_count": 61,
   "metadata": {},
   "outputs": [
    {
     "data": {
      "text/plain": [
       "<matplotlib.axes._subplots.AxesSubplot at 0x7f4b2cf27be0>"
      ]
     },
     "execution_count": 61,
     "metadata": {},
     "output_type": "execute_result"
    },
    {
     "data": {
      "image/png": "[encoded data removed]",
      "text/plain": [
       "<Figure size 432x288 with 1 Axes>"
      ]
     },
     "metadata": {
      "needs_background": "light"
     },
     "output_type": "display_data"
    }
   ],
   "source": [
    "paper_df[paper_df['C10'] > paper_df['C10'].quantile(.1)]['C10'].hist(bins = 100, log = True)"
   ]
  },
  {
   "cell_type": "code",
   "execution_count": 51,
   "metadata": {
    "scrolled": true
   },
   "outputs": [
    {
     "data": {
      "text/html": [
       "<div>\n",
       "<style scoped>\n",
       "    .dataframe tbody tr th:only-of-type {\n",
       "        vertical-align: middle;\n",
       "    }\n",
       "\n",
       "    .dataframe tbody tr th {\n",
       "        vertical-align: top;\n",
       "    }\n",
       "\n",
       "    .dataframe thead th {\n",
       "        text-align: right;\n",
       "    }\n",
       "</style>\n",
       "<table border=\"1\" class=\"dataframe\">\n",
       "  <thead>\n",
       "    <tr style=\"text-align: right;\">\n",
       "      <th></th>\n",
       "      <th>uid</th>\n",
       "      <th>year</th>\n",
       "      <th>journal</th>\n",
       "      <th>C10</th>\n",
       "    </tr>\n",
       "  </thead>\n",
       "  <tbody>\n",
       "    <tr>\n",
       "      <td>7463324</td>\n",
       "      <td>WOS:000248848400005</td>\n",
       "      <td>2007</td>\n",
       "      <td>MOLECULAR BIOLOGY AND EVOLUTION</td>\n",
       "      <td>21776</td>\n",
       "    </tr>\n",
       "    <tr>\n",
       "      <td>7096944</td>\n",
       "      <td>WOS:000244570700015</td>\n",
       "      <td>2007</td>\n",
       "      <td>NATURE MATERIALS</td>\n",
       "      <td>18498</td>\n",
       "    </tr>\n",
       "    <tr>\n",
       "      <td>4375042</td>\n",
       "      <td>WOS:000224756700045</td>\n",
       "      <td>2004</td>\n",
       "      <td>SCIENCE</td>\n",
       "      <td>15071</td>\n",
       "    </tr>\n",
       "    <tr>\n",
       "      <td>1505363</td>\n",
       "      <td>WOS:000173949500003</td>\n",
       "      <td>2001</td>\n",
       "      <td>METHODS</td>\n",
       "      <td>14684</td>\n",
       "    </tr>\n",
       "    <tr>\n",
       "      <td>6784202</td>\n",
       "      <td>WOS:000251197700021</td>\n",
       "      <td>2007</td>\n",
       "      <td>BIOINFORMATICS</td>\n",
       "      <td>14260</td>\n",
       "    </tr>\n",
       "  </tbody>\n",
       "</table>\n",
       "</div>"
      ],
      "text/plain": [
       "                         uid  year                          journal    C10\n",
       "7463324  WOS:000248848400005  2007  MOLECULAR BIOLOGY AND EVOLUTION  21776\n",
       "7096944  WOS:000244570700015  2007                 NATURE MATERIALS  18498\n",
       "4375042  WOS:000224756700045  2004                          SCIENCE  15071\n",
       "1505363  WOS:000173949500003  2001                          METHODS  14684\n",
       "6784202  WOS:000251197700021  2007                   BIOINFORMATICS  14260"
      ]
     },
     "execution_count": 51,
     "metadata": {},
     "output_type": "execute_result"
    }
   ],
   "source": [
    "paper_df.sort_values('C10', ascending = False).head()"
   ]
  },
  {
   "cell_type": "code",
   "execution_count": 80,
   "metadata": {},
   "outputs": [
    {
     "data": {
      "text/plain": [
       "0.7465886801792984"
      ]
     },
     "execution_count": 80,
     "metadata": {},
     "output_type": "execute_result"
    }
   ],
   "source": [
    "len(paper_df[paper_df['C10'] > paper_df['C10'].quantile(.2)])/len(paper_df)"
   ]
  },
  {
   "cell_type": "markdown",
   "metadata": {},
   "source": [
    "## Get Paper -> Author Edgelist"
   ]
  },
  {
   "cell_type": "code",
   "execution_count": 92,
   "metadata": {},
   "outputs": [
    {
     "data": {
      "text/html": [
       "<div>\n",
       "<style scoped>\n",
       "    .dataframe tbody tr th:only-of-type {\n",
       "        vertical-align: middle;\n",
       "    }\n",
       "\n",
       "    .dataframe tbody tr th {\n",
       "        vertical-align: top;\n",
       "    }\n",
       "\n",
       "    .dataframe thead th {\n",
       "        text-align: right;\n",
       "    }\n",
       "</style>\n",
       "<table border=\"1\" class=\"dataframe\">\n",
       "  <thead>\n",
       "    <tr style=\"text-align: right;\">\n",
       "      <th></th>\n",
       "      <th>uid</th>\n",
       "      <th>author_id</th>\n",
       "    </tr>\n",
       "  </thead>\n",
       "  <tbody>\n",
       "    <tr>\n",
       "      <td>0</td>\n",
       "      <td>WOS:000086109900003</td>\n",
       "      <td>AuthorDAIS10992977</td>\n",
       "    </tr>\n",
       "    <tr>\n",
       "      <td>1</td>\n",
       "      <td>WOS:000086109900003</td>\n",
       "      <td>AuthorDAIS2217162</td>\n",
       "    </tr>\n",
       "    <tr>\n",
       "      <td>2</td>\n",
       "      <td>WOS:000167161300007</td>\n",
       "      <td>AuthorDAIS14097041</td>\n",
       "    </tr>\n",
       "    <tr>\n",
       "      <td>3</td>\n",
       "      <td>WOS:000167161300007</td>\n",
       "      <td>AuthorDAIS13159415</td>\n",
       "    </tr>\n",
       "    <tr>\n",
       "      <td>4</td>\n",
       "      <td>WOS:000167161300007</td>\n",
       "      <td>AuthorDAIS10385644</td>\n",
       "    </tr>\n",
       "  </tbody>\n",
       "</table>\n",
       "</div>"
      ],
      "text/plain": [
       "                   uid           author_id\n",
       "0  WOS:000086109900003  AuthorDAIS10992977\n",
       "1  WOS:000086109900003   AuthorDAIS2217162\n",
       "2  WOS:000167161300007  AuthorDAIS14097041\n",
       "3  WOS:000167161300007  AuthorDAIS13159415\n",
       "4  WOS:000167161300007  AuthorDAIS10385644"
      ]
     },
     "execution_count": 92,
     "metadata": {},
     "output_type": "execute_result"
    }
   ],
   "source": [
    "author_df[['uid', 'author_id']].head()"
   ]
  },
  {
   "cell_type": "markdown",
   "metadata": {},
   "source": [
    "#### Checking if string formatting holds true"
   ]
  },
  {
   "cell_type": "code",
   "execution_count": 93,
   "metadata": {},
   "outputs": [
    {
     "data": {
      "text/html": [
       "<div>\n",
       "<style scoped>\n",
       "    .dataframe tbody tr th:only-of-type {\n",
       "        vertical-align: middle;\n",
       "    }\n",
       "\n",
       "    .dataframe tbody tr th {\n",
       "        vertical-align: top;\n",
       "    }\n",
       "\n",
       "    .dataframe thead th {\n",
       "        text-align: right;\n",
       "    }\n",
       "</style>\n",
       "<table border=\"1\" class=\"dataframe\">\n",
       "  <thead>\n",
       "    <tr style=\"text-align: right;\">\n",
       "      <th></th>\n",
       "      <th>uid</th>\n",
       "      <th>seq_no</th>\n",
       "      <th>author_id</th>\n",
       "    </tr>\n",
       "  </thead>\n",
       "  <tbody>\n",
       "  </tbody>\n",
       "</table>\n",
       "</div>"
      ],
      "text/plain": [
       "Empty DataFrame\n",
       "Columns: [uid, seq_no, author_id]\n",
       "Index: []"
      ]
     },
     "execution_count": 93,
     "metadata": {},
     "output_type": "execute_result"
    }
   ],
   "source": [
    "author_df[~author_df['uid'].str.contains('WOS')]"
   ]
  },
  {
   "cell_type": "code",
   "execution_count": 102,
   "metadata": {},
   "outputs": [
    {
     "data": {
      "text/plain": [
       "8035139"
      ]
     },
     "execution_count": 102,
     "metadata": {},
     "output_type": "execute_result"
    }
   ],
   "source": [
    "len(author_df[~ author_df['author_id'].str.startswith('AuthorDAIS')])"
   ]
  },
  {
   "cell_type": "code",
   "execution_count": 105,
   "metadata": {},
   "outputs": [],
   "source": [
    "author_df['author_id'] = 'A: ' + author_df['author_id']"
   ]
  },
  {
   "cell_type": "markdown",
   "metadata": {},
   "source": [
    "## Get Paper -> Venue Edgelist"
   ]
  },
  {
   "cell_type": "code",
   "execution_count": 109,
   "metadata": {},
   "outputs": [
    {
     "data": {
      "text/html": [
       "<div>\n",
       "<style scoped>\n",
       "    .dataframe tbody tr th:only-of-type {\n",
       "        vertical-align: middle;\n",
       "    }\n",
       "\n",
       "    .dataframe tbody tr th {\n",
       "        vertical-align: top;\n",
       "    }\n",
       "\n",
       "    .dataframe thead th {\n",
       "        text-align: right;\n",
       "    }\n",
       "</style>\n",
       "<table border=\"1\" class=\"dataframe\">\n",
       "  <thead>\n",
       "    <tr style=\"text-align: right;\">\n",
       "      <th></th>\n",
       "      <th>uid</th>\n",
       "      <th>journal</th>\n",
       "    </tr>\n",
       "  </thead>\n",
       "  <tbody>\n",
       "    <tr>\n",
       "      <td>0</td>\n",
       "      <td>WOS:000086109900003</td>\n",
       "      <td>J: JOURNAL OF PHYSICS A-MATHEMATICAL AND GENERAL</td>\n",
       "    </tr>\n",
       "    <tr>\n",
       "      <td>1</td>\n",
       "      <td>WOS:000167161300007</td>\n",
       "      <td>J: CEMENT AND CONCRETE RESEARCH</td>\n",
       "    </tr>\n",
       "    <tr>\n",
       "      <td>2</td>\n",
       "      <td>WOS:000087010000039</td>\n",
       "      <td>J: PERCEPTUAL AND MOTOR SKILLS</td>\n",
       "    </tr>\n",
       "    <tr>\n",
       "      <td>3</td>\n",
       "      <td>WOS:000088831900009</td>\n",
       "      <td>J: JOURNAL OF CONTROLLED RELEASE</td>\n",
       "    </tr>\n",
       "    <tr>\n",
       "      <td>4</td>\n",
       "      <td>WOS:000089715100005</td>\n",
       "      <td>J: EUROPEAN JOURNAL OF BIOCHEMISTRY</td>\n",
       "    </tr>\n",
       "  </tbody>\n",
       "</table>\n",
       "</div>"
      ],
      "text/plain": [
       "                   uid                                           journal\n",
       "0  WOS:000086109900003  J: JOURNAL OF PHYSICS A-MATHEMATICAL AND GENERAL\n",
       "1  WOS:000167161300007                   J: CEMENT AND CONCRETE RESEARCH\n",
       "2  WOS:000087010000039                    J: PERCEPTUAL AND MOTOR SKILLS\n",
       "3  WOS:000088831900009                  J: JOURNAL OF CONTROLLED RELEASE\n",
       "4  WOS:000089715100005               J: EUROPEAN JOURNAL OF BIOCHEMISTRY"
      ]
     },
     "execution_count": 109,
     "metadata": {},
     "output_type": "execute_result"
    }
   ],
   "source": [
    "paper_df[['uid', 'journal']].head()"
   ]
  },
  {
   "cell_type": "code",
   "execution_count": 108,
   "metadata": {},
   "outputs": [],
   "source": [
    "paper_df['journal'] = 'J: ' + paper_df['journal']"
   ]
  },
  {
   "cell_type": "markdown",
   "metadata": {},
   "source": [
    "## Combining Edgelists"
   ]
  },
  {
   "cell_type": "code",
   "execution_count": 121,
   "metadata": {},
   "outputs": [],
   "source": [
    "edgelists_df = pd.DataFrame()\n",
    "edgelists_df = edgelists_df.append(paper_df[['uid', 'journal']])\n",
    "\n",
    "edgelists_df = edgelists_df.rename(columns = {'uid':'node_0', 'journal':'node_1'})\n",
    "\n",
    "edgelists_df = edgelists_df.append(author_df[['uid', 'author_id']].rename(columns = {'uid':'node_0', 'author_id':'node_1'}))"
   ]
  },
  {
   "cell_type": "code",
   "execution_count": 122,
   "metadata": {},
   "outputs": [
    {
     "data": {
      "text/html": [
       "<div>\n",
       "<style scoped>\n",
       "    .dataframe tbody tr th:only-of-type {\n",
       "        vertical-align: middle;\n",
       "    }\n",
       "\n",
       "    .dataframe tbody tr th {\n",
       "        vertical-align: top;\n",
       "    }\n",
       "\n",
       "    .dataframe thead th {\n",
       "        text-align: right;\n",
       "    }\n",
       "</style>\n",
       "<table border=\"1\" class=\"dataframe\">\n",
       "  <thead>\n",
       "    <tr style=\"text-align: right;\">\n",
       "      <th></th>\n",
       "      <th>node_0</th>\n",
       "      <th>node_1</th>\n",
       "    </tr>\n",
       "  </thead>\n",
       "  <tbody>\n",
       "    <tr>\n",
       "      <td>0</td>\n",
       "      <td>WOS:000086109900003</td>\n",
       "      <td>J: JOURNAL OF PHYSICS A-MATHEMATICAL AND GENERAL</td>\n",
       "    </tr>\n",
       "    <tr>\n",
       "      <td>1</td>\n",
       "      <td>WOS:000167161300007</td>\n",
       "      <td>J: CEMENT AND CONCRETE RESEARCH</td>\n",
       "    </tr>\n",
       "    <tr>\n",
       "      <td>2</td>\n",
       "      <td>WOS:000087010000039</td>\n",
       "      <td>J: PERCEPTUAL AND MOTOR SKILLS</td>\n",
       "    </tr>\n",
       "    <tr>\n",
       "      <td>3</td>\n",
       "      <td>WOS:000088831900009</td>\n",
       "      <td>J: JOURNAL OF CONTROLLED RELEASE</td>\n",
       "    </tr>\n",
       "    <tr>\n",
       "      <td>4</td>\n",
       "      <td>WOS:000089715100005</td>\n",
       "      <td>J: EUROPEAN JOURNAL OF BIOCHEMISTRY</td>\n",
       "    </tr>\n",
       "    <tr>\n",
       "      <td>...</td>\n",
       "      <td>...</td>\n",
       "      <td>...</td>\n",
       "    </tr>\n",
       "    <tr>\n",
       "      <td>30740037</td>\n",
       "      <td>WOS:000250039200003</td>\n",
       "      <td>A: AuthorDAIS13193048</td>\n",
       "    </tr>\n",
       "    <tr>\n",
       "      <td>30740038</td>\n",
       "      <td>WOS:000250039200003</td>\n",
       "      <td>A: RUBILONI, A.</td>\n",
       "    </tr>\n",
       "    <tr>\n",
       "      <td>30740039</td>\n",
       "      <td>WOS:000250039200003</td>\n",
       "      <td>A: CAMPO, P.</td>\n",
       "    </tr>\n",
       "    <tr>\n",
       "      <td>30740040</td>\n",
       "      <td>WOS:000250039200003</td>\n",
       "      <td>A: AuthorDAIS16388075</td>\n",
       "    </tr>\n",
       "    <tr>\n",
       "      <td>30740041</td>\n",
       "      <td>WOS:000250039200003</td>\n",
       "      <td>A: AuthorDAIS10664431</td>\n",
       "    </tr>\n",
       "  </tbody>\n",
       "</table>\n",
       "<p>38236731 rows × 2 columns</p>\n",
       "</div>"
      ],
      "text/plain": [
       "                       node_0  \\\n",
       "0         WOS:000086109900003   \n",
       "1         WOS:000167161300007   \n",
       "2         WOS:000087010000039   \n",
       "3         WOS:000088831900009   \n",
       "4         WOS:000089715100005   \n",
       "...                       ...   \n",
       "30740037  WOS:000250039200003   \n",
       "30740038  WOS:000250039200003   \n",
       "30740039  WOS:000250039200003   \n",
       "30740040  WOS:000250039200003   \n",
       "30740041  WOS:000250039200003   \n",
       "\n",
       "                                                    node_1  \n",
       "0         J: JOURNAL OF PHYSICS A-MATHEMATICAL AND GENERAL  \n",
       "1                          J: CEMENT AND CONCRETE RESEARCH  \n",
       "2                           J: PERCEPTUAL AND MOTOR SKILLS  \n",
       "3                         J: JOURNAL OF CONTROLLED RELEASE  \n",
       "4                      J: EUROPEAN JOURNAL OF BIOCHEMISTRY  \n",
       "...                                                    ...  \n",
       "30740037                             A: AuthorDAIS13193048  \n",
       "30740038                                   A: RUBILONI, A.  \n",
       "30740039                                      A: CAMPO, P.  \n",
       "30740040                             A: AuthorDAIS16388075  \n",
       "30740041                             A: AuthorDAIS10664431  \n",
       "\n",
       "[38236731 rows x 2 columns]"
      ]
     },
     "execution_count": 122,
     "metadata": {},
     "output_type": "execute_result"
    }
   ],
   "source": [
    "nx.from edgelists_df"
   ]
  },
  {
   "cell_type": "code",
   "execution_count": null,
   "metadata": {},
   "outputs": [],
   "source": []
  }
 ],
 "metadata": {
  "kernelspec": {
   "display_name": "Python 3",
   "language": "python",
   "name": "python3"
  },
  "language_info": {
   "codemirror_mode": {
    "name": "ipython",
    "version": 3
   },
   "file_extension": ".py",
   "mimetype": "text/x-python",
   "name": "python",
   "nbconvert_exporter": "python",
   "pygments_lexer": "ipython3",
   "version": "3.5.3"
  }
 },
 "nbformat": 4,
 "nbformat_minor": 2
}
